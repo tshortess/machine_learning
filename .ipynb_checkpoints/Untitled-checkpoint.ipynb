{
 "cells": [
  {
   "cell_type": "code",
   "execution_count": 3,
   "id": "001b6ee2",
   "metadata": {},
   "outputs": [],
   "source": [
    "from wallstreet import Stock, Call\n",
    "import yfinance as yf\n",
    "import datetime\n",
    "import pandas as pd\n",
    "import numpy as np"
   ]
  },
  {
   "cell_type": "code",
   "execution_count": 5,
   "id": "d34fb7a6",
   "metadata": {},
   "outputs": [],
   "source": [
    "current_time = datetime.datetime.now()\n",
    "current_time_str = current_time.strftime(\"%Y\") + \"-\" + current_time.strftime(\"%m\") + \"-\" + current_time.strftime(\"%d\")\n",
    "start_of_month = current_time.strftime(\"%Y\") + \"-\" + current_time.strftime(\"%m\") + \"-\" + \"01\""
   ]
  },
  {
   "cell_type": "code",
   "execution_count": 6,
   "id": "4abd9576",
   "metadata": {},
   "outputs": [],
   "source": [
    "dfs = yf.Ticker(\"DFS\")"
   ]
  },
  {
   "cell_type": "code",
   "execution_count": 7,
   "id": "c11ed232",
   "metadata": {},
   "outputs": [],
   "source": [
    "hist = dfs.history(\"2mo\")"
   ]
  },
  {
   "cell_type": "code",
   "execution_count": 8,
   "id": "52ed9888",
   "metadata": {},
   "outputs": [],
   "source": [
    "hist = hist.drop(columns=['Dividends', 'Stock Splits'])"
   ]
  },
  {
   "cell_type": "code",
   "execution_count": 9,
   "id": "baf7d1c1",
   "metadata": {},
   "outputs": [],
   "source": [
    "total_shares = dfs.get_shares_full(start=start_of_month, end=None)"
   ]
  },
  {
   "cell_type": "code",
   "execution_count": 10,
   "id": "1f54b50f",
   "metadata": {},
   "outputs": [],
   "source": [
    "mean_volume = hist.agg({\"Volume\": \"mean\"})"
   ]
  },
  {
   "cell_type": "code",
   "execution_count": 11,
   "id": "1a77cd9d",
   "metadata": {},
   "outputs": [],
   "source": [
    "volume_traded_percent = ( mean_volume / total_shares.iat[-1] ) * 100"
   ]
  },
  {
   "cell_type": "code",
   "execution_count": 20,
   "id": "b15ca265",
   "metadata": {},
   "outputs": [],
   "source": [
    "hist[\"Open Close %\"] = ((hist[\"Close\"] - hist[\"Open\"]) / hist[\"Open\"]) * 100\n",
    "hist[\"Intraday Move %\"] = ((hist[\"High\"] - hist[\"Low\"]) / hist[\"Low\"]) * 100\n",
    "hist[\"Close to High %\"] = ((hist[\"Close\"] - hist[\"High\"]) / hist[\"High\"]) * 100\n",
    "hist[\"Open to High %\"] = ((hist[\"Open\"] - hist[\"High\"]) / hist[\"High\"]) * 100\n",
    "hist[\"Close to Low %\"] = ((hist[\"Close\"] - hist[\"High\"]) / hist[\"High\"]) * 100\n",
    "hist[\"Open to Low %\"] = ((hist[\"Open\"] - hist[\"High\"]) / hist[\"High\"]) * 100"
   ]
  },
  {
   "cell_type": "code",
   "execution_count": 21,
   "id": "c84bef22",
   "metadata": {},
   "outputs": [
    {
     "data": {
      "text/plain": [
       "(Intraday Move %    2.101889\n",
       " dtype: float64,\n",
       " Open Close %    0.390294\n",
       " dtype: float64)"
      ]
     },
     "execution_count": 21,
     "metadata": {},
     "output_type": "execute_result"
    }
   ],
   "source": [
    "mean_intraday_change = hist.agg({\"Intraday Move %\": \"mean\"})\n",
    "mean_open_close_change = hist.agg({\"Open Close %\": \"mean\"})\n",
    "mean_intraday_change, mean_open_close_change"
   ]
  },
  {
   "cell_type": "code",
   "execution_count": 18,
   "id": "d88520f7",
   "metadata": {},
   "outputs": [
    {
     "data": {
      "text/plain": [
       "Open               5.726191e+00\n",
       "High               5.359764e+00\n",
       "Low                5.842273e+00\n",
       "Close              5.637155e+00\n",
       "Volume             1.760425e+06\n",
       "Open Close %       1.380777e-02\n",
       "Intraday Move %    1.032005e-02\n",
       "Close to High %    8.103786e-03\n",
       "Open to High %     1.065934e-02\n",
       "Close to Low %     8.103786e-03\n",
       "Open to Low %      1.065934e-02\n",
       "dtype: float64"
      ]
     },
     "execution_count": 18,
     "metadata": {},
     "output_type": "execute_result"
    }
   ],
   "source": [
    "hist.std()"
   ]
  },
  {
   "cell_type": "code",
   "execution_count": 19,
   "id": "0bcb2bb8",
   "metadata": {},
   "outputs": [],
   "source": []
  },
  {
   "cell_type": "code",
   "execution_count": null,
   "id": "ad82bfb6",
   "metadata": {},
   "outputs": [],
   "source": []
  }
 ],
 "metadata": {
  "kernelspec": {
   "display_name": "Python 3 (ipykernel)",
   "language": "python",
   "name": "python3"
  },
  "language_info": {
   "codemirror_mode": {
    "name": "ipython",
    "version": 3
   },
   "file_extension": ".py",
   "mimetype": "text/x-python",
   "name": "python",
   "nbconvert_exporter": "python",
   "pygments_lexer": "ipython3",
   "version": "3.11.4"
  }
 },
 "nbformat": 4,
 "nbformat_minor": 5
}
