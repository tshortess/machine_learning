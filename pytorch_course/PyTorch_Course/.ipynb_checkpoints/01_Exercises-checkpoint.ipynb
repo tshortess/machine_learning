{
 "cells": [
  {
   "cell_type": "code",
   "execution_count": 13,
   "id": "f21d4051",
   "metadata": {},
   "outputs": [],
   "source": [
    "import torch\n",
    "from torch import nn\n",
    "import matplotlib.pyplot as plt"
   ]
  },
  {
   "cell_type": "code",
   "execution_count": 5,
   "id": "24e2bc1c",
   "metadata": {},
   "outputs": [],
   "source": [
    "#Note: For all exercises, your code should be device agnostic (meaning it could run on CPU or GPU if it's available).\n",
    "device = \"cuda\" if torch.cuda.is_available() else \"cpu\""
   ]
  },
  {
   "cell_type": "code",
   "execution_count": 7,
   "id": "0f256d53",
   "metadata": {},
   "outputs": [
    {
     "data": {
      "text/plain": [
       "(tensor([[0.0000],\n",
       "         [0.1000],\n",
       "         [0.2000],\n",
       "         [0.3000],\n",
       "         [0.4000],\n",
       "         [0.5000],\n",
       "         [0.6000],\n",
       "         [0.7000],\n",
       "         [0.8000],\n",
       "         [0.9000],\n",
       "         [1.0000],\n",
       "         [1.1000],\n",
       "         [1.2000],\n",
       "         [1.3000],\n",
       "         [1.4000],\n",
       "         [1.5000],\n",
       "         [1.6000],\n",
       "         [1.7000],\n",
       "         [1.8000],\n",
       "         [1.9000],\n",
       "         [2.0000],\n",
       "         [2.1000],\n",
       "         [2.2000],\n",
       "         [2.3000],\n",
       "         [2.4000],\n",
       "         [2.5000],\n",
       "         [2.6000],\n",
       "         [2.7000],\n",
       "         [2.8000],\n",
       "         [2.9000],\n",
       "         [3.0000],\n",
       "         [3.1000],\n",
       "         [3.2000],\n",
       "         [3.3000],\n",
       "         [3.4000],\n",
       "         [3.5000],\n",
       "         [3.6000],\n",
       "         [3.7000],\n",
       "         [3.8000],\n",
       "         [3.9000],\n",
       "         [4.0000],\n",
       "         [4.1000],\n",
       "         [4.2000],\n",
       "         [4.3000],\n",
       "         [4.4000],\n",
       "         [4.5000],\n",
       "         [4.6000],\n",
       "         [4.7000],\n",
       "         [4.8000],\n",
       "         [4.9000],\n",
       "         [5.0000],\n",
       "         [5.1000],\n",
       "         [5.2000],\n",
       "         [5.3000],\n",
       "         [5.4000],\n",
       "         [5.5000],\n",
       "         [5.6000],\n",
       "         [5.7000],\n",
       "         [5.8000],\n",
       "         [5.9000],\n",
       "         [6.0000],\n",
       "         [6.1000],\n",
       "         [6.2000],\n",
       "         [6.3000],\n",
       "         [6.4000],\n",
       "         [6.5000],\n",
       "         [6.6000],\n",
       "         [6.7000],\n",
       "         [6.8000],\n",
       "         [6.9000],\n",
       "         [7.0000],\n",
       "         [7.1000],\n",
       "         [7.2000],\n",
       "         [7.3000],\n",
       "         [7.4000],\n",
       "         [7.5000],\n",
       "         [7.6000],\n",
       "         [7.7000],\n",
       "         [7.8000],\n",
       "         [7.9000],\n",
       "         [8.0000],\n",
       "         [8.1000],\n",
       "         [8.2000],\n",
       "         [8.3000],\n",
       "         [8.4000],\n",
       "         [8.5000],\n",
       "         [8.6000],\n",
       "         [8.7000],\n",
       "         [8.8000],\n",
       "         [8.9000],\n",
       "         [9.0000],\n",
       "         [9.1000],\n",
       "         [9.2000],\n",
       "         [9.3000],\n",
       "         [9.4000],\n",
       "         [9.5000],\n",
       "         [9.6000],\n",
       "         [9.7000],\n",
       "         [9.8000],\n",
       "         [9.9000]]),\n",
       " tensor([[0.9000],\n",
       "         [0.9300],\n",
       "         [0.9600],\n",
       "         [0.9900],\n",
       "         [1.0200],\n",
       "         [1.0500],\n",
       "         [1.0800],\n",
       "         [1.1100],\n",
       "         [1.1400],\n",
       "         [1.1700],\n",
       "         [1.2000],\n",
       "         [1.2300],\n",
       "         [1.2600],\n",
       "         [1.2900],\n",
       "         [1.3200],\n",
       "         [1.3500],\n",
       "         [1.3800],\n",
       "         [1.4100],\n",
       "         [1.4400],\n",
       "         [1.4700],\n",
       "         [1.5000],\n",
       "         [1.5300],\n",
       "         [1.5600],\n",
       "         [1.5900],\n",
       "         [1.6200],\n",
       "         [1.6500],\n",
       "         [1.6800],\n",
       "         [1.7100],\n",
       "         [1.7400],\n",
       "         [1.7700],\n",
       "         [1.8000],\n",
       "         [1.8300],\n",
       "         [1.8600],\n",
       "         [1.8900],\n",
       "         [1.9200],\n",
       "         [1.9500],\n",
       "         [1.9800],\n",
       "         [2.0100],\n",
       "         [2.0400],\n",
       "         [2.0700],\n",
       "         [2.1000],\n",
       "         [2.1300],\n",
       "         [2.1600],\n",
       "         [2.1900],\n",
       "         [2.2200],\n",
       "         [2.2500],\n",
       "         [2.2800],\n",
       "         [2.3100],\n",
       "         [2.3400],\n",
       "         [2.3700],\n",
       "         [2.4000],\n",
       "         [2.4300],\n",
       "         [2.4600],\n",
       "         [2.4900],\n",
       "         [2.5200],\n",
       "         [2.5500],\n",
       "         [2.5800],\n",
       "         [2.6100],\n",
       "         [2.6400],\n",
       "         [2.6700],\n",
       "         [2.7000],\n",
       "         [2.7300],\n",
       "         [2.7600],\n",
       "         [2.7900],\n",
       "         [2.8200],\n",
       "         [2.8500],\n",
       "         [2.8800],\n",
       "         [2.9100],\n",
       "         [2.9400],\n",
       "         [2.9700],\n",
       "         [3.0000],\n",
       "         [3.0300],\n",
       "         [3.0600],\n",
       "         [3.0900],\n",
       "         [3.1200],\n",
       "         [3.1500],\n",
       "         [3.1800],\n",
       "         [3.2100],\n",
       "         [3.2400],\n",
       "         [3.2700],\n",
       "         [3.3000],\n",
       "         [3.3300],\n",
       "         [3.3600],\n",
       "         [3.3900],\n",
       "         [3.4200],\n",
       "         [3.4500],\n",
       "         [3.4800],\n",
       "         [3.5100],\n",
       "         [3.5400],\n",
       "         [3.5700],\n",
       "         [3.6000],\n",
       "         [3.6300],\n",
       "         [3.6600],\n",
       "         [3.6900],\n",
       "         [3.7200],\n",
       "         [3.7500],\n",
       "         [3.7800],\n",
       "         [3.8100],\n",
       "         [3.8400],\n",
       "         [3.8700]]))"
      ]
     },
     "execution_count": 7,
     "metadata": {},
     "output_type": "execute_result"
    }
   ],
   "source": [
    "#Create a straight line dataset using the linear regression formula (weight * X + bias).\n",
    "#Set weight=0.3 and bias=0.9 there should be at least 100 datapoints total.\n",
    "weight = 0.3\n",
    "bias = 0.9\n",
    "\n",
    "start = 0\n",
    "end = 10\n",
    "step = 0.1\n",
    "\n",
    "X = torch.arange(start, end, step).unsqueeze(dim=1)\n",
    "y = weight * X + bias\n",
    "\n",
    "X, y"
   ]
  },
  {
   "cell_type": "code",
   "execution_count": 22,
   "id": "4df07fa1",
   "metadata": {},
   "outputs": [],
   "source": [
    "#Split the data into 80% training, 20% testing.\n",
    "train_split = int(len(X) * 0.8)\n",
    "X_train, y_train = X[:train_split], y[:train_split]\n",
    "X_test, y_test = X[train_split:], y[train_split:]\n",
    "X_train = X_train.to(device)\n",
    "X_test = X_test.to(device)\n",
    "y_train = y_train.to(device)\n",
    "y_test = y_test.to(device)"
   ]
  },
  {
   "cell_type": "code",
   "execution_count": 23,
   "id": "768e5e71",
   "metadata": {},
   "outputs": [
    {
     "data": {
      "image/png": "[encoded data removed]",
      "text/plain": [
       "<Figure size 1000x700 with 1 Axes>"
      ]
     },
     "metadata": {},
     "output_type": "display_data"
    }
   ],
   "source": [
    "#Plot the training and testing data so it becomes visual.\n",
    "def plot_predictions(train_data=X_train,\n",
    "                     train_labels=y_train,\n",
    "                     test_data=X_test,\n",
    "                     test_labels=y_test,\n",
    "                     predictions=None):\n",
    "    plt.figure(figsize=(10, 7))\n",
    "    \n",
    "    plt.scatter(train_data, train_labels, c=\"b\", s=4, label=\"Training Data\")\n",
    "    \n",
    "    plt.scatter(test_data, test_labels, c=\"r\", s=4, label=\"Test Data\")\n",
    "    \n",
    "    if predictions is not None:\n",
    "        plt.scatter(test_data, predictions, c=\"g\", s=4, label=\"Predictions\")\n",
    "    \n",
    "    plt.legend(prop={\"size\": 14})\n",
    "\n",
    "plot_predictions()"
   ]
  },
  {
   "cell_type": "code",
   "execution_count": 27,
   "id": "be87c780",
   "metadata": {},
   "outputs": [
    {
     "data": {
      "text/plain": [
       "OrderedDict([('weights', tensor([0.3367], dtype=torch.float64)),\n",
       "             ('bias', tensor([0.1288], dtype=torch.float64))])"
      ]
     },
     "execution_count": 27,
     "metadata": {},
     "output_type": "execute_result"
    }
   ],
   "source": [
    "# Build a PyTorch model by subclassing nn.Module.\n",
    "# Inside should be a randomly initialized nn.Parameter() with requires_grad=True, one for weights and one for bias.\n",
    "# Implement the forward() method to compute the linear regression function you used to create the dataset in 1.\n",
    "\n",
    "class LinearRegressionModel(nn.Module):\n",
    "    def __init__(self):\n",
    "        super().__init__()\n",
    "        self.weights = nn.Parameter(torch.randn(1, \n",
    "                                               dtype=torch.float64),\n",
    "                                   requires_grad=True)\n",
    "        \n",
    "        self.bias = nn.Parameter(torch.randn(1, \n",
    "                                               dtype=torch.float64),\n",
    "                                   requires_grad=True)\n",
    "    \n",
    "    def forward(self, x: torch.Tensor) -> torch.Tensor:\n",
    "        return self.weights * x + self.bias\n",
    "        \n",
    "\n",
    "#Once you've constructed the model, make an instance of it and check its state_dict().\n",
    "torch.manual_seed(42)\n",
    "model_1 = LinearRegressionModel()\n",
    "model_1.state_dict()"
   ]
  },
  {
   "cell_type": "code",
   "execution_count": 44,
   "id": "94a19b90",
   "metadata": {},
   "outputs": [],
   "source": [
    "#Create a loss function and optimizer using nn.L1Loss() and torch.optim.SGD(params, lr) respectively.\n",
    "#Set the learning rate of the optimizer to be 0.01 and the parameters to optimize should be the \n",
    "#model parameters from the model you created in 2.\n",
    "\n",
    "loss_function = nn.L1Loss()\n",
    "optimizer = torch.optim.SGD(params=model_1.parameters(), lr=0.01)"
   ]
  },
  {
   "cell_type": "code",
   "execution_count": 45,
   "id": "09d5b031",
   "metadata": {},
   "outputs": [
    {
     "data": {
      "text/plain": [
       "OrderedDict([('weights', tensor([0.3000], dtype=torch.float64)),\n",
       "             ('bias', tensor([0.8999], dtype=torch.float64))])"
      ]
     },
     "execution_count": 45,
     "metadata": {},
     "output_type": "execute_result"
    }
   ],
   "source": [
    "# Write a training loop to perform the appropriate training steps for 300 epochs.\n",
    "# The training loop should test the model on the test dataset every 20 epochs.\n",
    "epochs = 300\n",
    "\n",
    "for epoch in range(epochs):\n",
    "    model_1.train()\n",
    "    \n",
    "    y_prediction = model_1.forward(X_train)\n",
    "    \n",
    "    loss = loss_function(y_prediction, y_train)\n",
    "    \n",
    "    optimizer.zero_grad()\n",
    "    loss.backward()\n",
    "    optimizer.step()\n",
    "    \n",
    "    if epoch % 20 == 0:\n",
    "        model_1.eval()\n",
    "        with torch.inference_mode():\n",
    "            test_pred = model_1(X_test)\n",
    "            test_loss = loss_function(test_pred, y_test)\n",
    "model_1.state_dict()"
   ]
  },
  {
   "cell_type": "code",
   "execution_count": 46,
   "id": "1cbbedb3",
   "metadata": {},
   "outputs": [
    {
     "data": {
      "image/png": "[encoded data removed]",
      "text/plain": [
       "<Figure size 1000x700 with 1 Axes>"
      ]
     },
     "metadata": {},
     "output_type": "display_data"
    }
   ],
   "source": [
    "# Make predictions with the trained model on the test data.\n",
    "# Visualize these predictions against the original training and testing data (note: you may need to make sure the predictions are not on the GPU if you want to use non-CUDA-enabled libraries such as matplotlib to plot).\n",
    "model_1.eval()\n",
    "with torch.inference_mode():\n",
    "    preds = model_1(X_test)\n",
    "\n",
    "plot_predictions(predictions=preds)"
   ]
  },
  {
   "cell_type": "code",
   "execution_count": 48,
   "id": "622fe092",
   "metadata": {},
   "outputs": [],
   "source": [
    "# Save your trained model's state_dict() to file.\n",
    "from pathlib import Path\n",
    "MODEL_PATH = Path(\"models\")\n",
    "MODEL_PATH.mkdir(parents=True, exist_ok=True)\n",
    "\n",
    "MODEL_NAME = \"01_pytorch_exercise_model.pth\"\n",
    "MODEL_SAVE_PATH = MODEL_PATH / MODEL_NAME\n",
    "\n",
    "torch.save(obj=model_1.state_dict(),f=MODEL_SAVE_PATH)"
   ]
  },
  {
   "cell_type": "code",
   "execution_count": 50,
   "id": "9fe2b106",
   "metadata": {},
   "outputs": [
    {
     "data": {
      "text/plain": [
       "<All keys matched successfully>"
      ]
     },
     "execution_count": 50,
     "metadata": {},
     "output_type": "execute_result"
    }
   ],
   "source": [
    "# Create a new instance of your model class you made in 2. and load in the state_dict() you just saved to it.\n",
    "model_2 = LinearRegressionModel()\n",
    "model_2.load_state_dict(torch.load(MODEL_SAVE_PATH))"
   ]
  },
  {
   "cell_type": "code",
   "execution_count": 51,
   "id": "5c3bb9b8",
   "metadata": {},
   "outputs": [
    {
     "data": {
      "text/plain": [
       "tensor([[True],\n",
       "        [True],\n",
       "        [True],\n",
       "        [True],\n",
       "        [True],\n",
       "        [True],\n",
       "        [True],\n",
       "        [True],\n",
       "        [True],\n",
       "        [True],\n",
       "        [True],\n",
       "        [True],\n",
       "        [True],\n",
       "        [True],\n",
       "        [True],\n",
       "        [True],\n",
       "        [True],\n",
       "        [True],\n",
       "        [True],\n",
       "        [True]])"
      ]
     },
     "execution_count": 51,
     "metadata": {},
     "output_type": "execute_result"
    }
   ],
   "source": [
    "# Perform predictions on your test data with the loaded model and confirm they match the original model predictions from 4.\n",
    "model_2.eval()\n",
    "with torch.inference_mode():\n",
    "    preds_2 = model_2(X_test)\n",
    "    \n",
    "preds == preds_2"
   ]
  },
  {
   "cell_type": "code",
   "execution_count": null,
   "id": "7bd4b0b0",
   "metadata": {},
   "outputs": [],
   "source": []
  }
 ],
 "metadata": {
  "kernelspec": {
   "display_name": "Python 3 (ipykernel)",
   "language": "python",
   "name": "python3"
  },
  "language_info": {
   "codemirror_mode": {
    "name": "ipython",
    "version": 3
   },
   "file_extension": ".py",
   "mimetype": "text/x-python",
   "name": "python",
   "nbconvert_exporter": "python",
   "pygments_lexer": "ipython3",
   "version": "3.11.4"
  }
 },
 "nbformat": 4,
 "nbformat_minor": 5
}
