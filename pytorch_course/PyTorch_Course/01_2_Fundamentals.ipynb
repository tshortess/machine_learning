{
 "cells": [
  {
   "cell_type": "code",
   "execution_count": 1,
   "id": "0de8db6f",
   "metadata": {},
   "outputs": [],
   "source": [
    "import torch\n",
    "from torch import nn\n",
    "import matplotlib.pyplot as plt"
   ]
  },
  {
   "cell_type": "code",
   "execution_count": 2,
   "id": "91cb275a",
   "metadata": {},
   "outputs": [],
   "source": [
    "device = \"cuda\" if torch.cuda.is_available() else \"cpu\""
   ]
  },
  {
   "cell_type": "code",
   "execution_count": 5,
   "id": "de4ba8b7",
   "metadata": {},
   "outputs": [
    {
     "data": {
      "text/plain": [
       "(tensor([[0.0000],\n",
       "         [0.0150],\n",
       "         [0.0300],\n",
       "         [0.0450],\n",
       "         [0.0600],\n",
       "         [0.0750],\n",
       "         [0.0900],\n",
       "         [0.1050],\n",
       "         [0.1200],\n",
       "         [0.1350]]),\n",
       " tensor([[0.1700],\n",
       "         [0.1763],\n",
       "         [0.1826],\n",
       "         [0.1889],\n",
       "         [0.1952],\n",
       "         [0.2015],\n",
       "         [0.2078],\n",
       "         [0.2141],\n",
       "         [0.2204],\n",
       "         [0.2267]]))"
      ]
     },
     "execution_count": 5,
     "metadata": {},
     "output_type": "execute_result"
    }
   ],
   "source": [
    "weight = 0.42\n",
    "bias = 0.17\n",
    "\n",
    "start = 0\n",
    "end = 1\n",
    "step = 0.015\n",
    "\n",
    "X = torch.arange(start, end, step).unsqueeze(dim=1)\n",
    "y = weight * X + bias\n",
    "X[:10], y[:10]"
   ]
  },
  {
   "cell_type": "code",
   "execution_count": 6,
   "id": "5182631c",
   "metadata": {},
   "outputs": [],
   "source": [
    "train_split = int(0.8 * len(X))\n",
    "\n",
    "X_train, y_train = X[:train_split], y[:train_split]\n",
    "X_test, y_test = X[train_split:], y[train_split:]"
   ]
  },
  {
   "cell_type": "code",
   "execution_count": 8,
   "id": "9f9d8311",
   "metadata": {},
   "outputs": [],
   "source": [
    "def plot_predictions(train_data,\n",
    "                    train_labels,\n",
    "                    test_data,\n",
    "                    test_labels,\n",
    "                    predictions=None):\n",
    "    plt.figure(figsize=(10, 7))\n",
    "    \n",
    "    plt.scatter(train_data, train_labels, c=\"b\", s=4, label=\"Training Data\")\n",
    "    \n",
    "    plt.scatter(test_data, test_labels, c=\"g\", s=4, label=\"Test Data\")\n",
    "    \n",
    "    if predictions is not None:\n",
    "        plt.scatter(test_data, predictions, c=\"r\", s=4, label=\"Predictions\")\n",
    "        \n",
    "    plt.legend(prop={\"size\": 14})"
   ]
  },
  {
   "cell_type": "code",
   "execution_count": 11,
   "id": "a7630af2",
   "metadata": {},
   "outputs": [],
   "source": [
    "class LinearRegressionModel(nn.Module):\n",
    "    def __init__(self):\n",
    "        super().__init__()\n",
    "        self.linear_layer = nn.Linear(in_features=1,\n",
    "                                     out_features=1)\n",
    "        \n",
    "    \n",
    "    def forward(self, x: torch.Tensor) -> torch.Tensor:\n",
    "        return self.linear_layer(x)     "
   ]
  },
  {
   "cell_type": "code",
   "execution_count": 13,
   "id": "5837ad6b",
   "metadata": {},
   "outputs": [
    {
     "data": {
      "text/plain": [
       "(LinearRegressionModel(\n",
       "   (linear_layer): Linear(in_features=1, out_features=1, bias=True)\n",
       " ),\n",
       " OrderedDict([('linear_layer.weight', tensor([[0.7645]])),\n",
       "              ('linear_layer.bias', tensor([0.8300]))]))"
      ]
     },
     "execution_count": 13,
     "metadata": {},
     "output_type": "execute_result"
    }
   ],
   "source": [
    "torch.manual_seed(42)\n",
    "model = LinearRegressionModel()\n",
    "model, model.state_dict()"
   ]
  },
  {
   "cell_type": "code",
   "execution_count": 14,
   "id": "c029cda3",
   "metadata": {},
   "outputs": [
    {
     "data": {
      "text/plain": [
       "device(type='cpu')"
      ]
     },
     "execution_count": 14,
     "metadata": {},
     "output_type": "execute_result"
    }
   ],
   "source": [
    "#Check model current device\n",
    "next(model.parameters()).device"
   ]
  },
  {
   "cell_type": "code",
   "execution_count": 15,
   "id": "79d2bc0c",
   "metadata": {},
   "outputs": [
    {
     "data": {
      "text/plain": [
       "device(type='cpu')"
      ]
     },
     "execution_count": 15,
     "metadata": {},
     "output_type": "execute_result"
    }
   ],
   "source": [
    "#Set model to use target device\n",
    "model.to(device)\n",
    "next(model.parameters()).device"
   ]
  },
  {
   "cell_type": "code",
   "execution_count": 20,
   "id": "61d1a9cc",
   "metadata": {},
   "outputs": [
    {
     "name": "stdout",
     "output_type": "stream",
     "text": [
      "Epoch: 0 | Loss: 0.004166799131780863 | Test Loss: 0.006715037859976292\n",
      "Epoch: 10 | Loss: 0.0010040962370112538 | Test Loss: 0.0022843650076538324\n",
      "Epoch: 20 | Loss: 0.0006647720001637936 | Test Loss: 0.0014868037542328238\n",
      "Epoch: 30 | Loss: 0.0003254478215239942 | Test Loss: 0.0006892425590194762\n",
      "Epoch: 40 | Loss: 0.0007329726358875632 | Test Loss: 0.0006777686649002135\n",
      "Epoch: 50 | Loss: 0.0007329726358875632 | Test Loss: 0.0006777686649002135\n",
      "Epoch: 60 | Loss: 0.0007329726358875632 | Test Loss: 0.0006777686649002135\n",
      "Epoch: 70 | Loss: 0.0007329726358875632 | Test Loss: 0.0006777686649002135\n",
      "Epoch: 80 | Loss: 0.0007329726358875632 | Test Loss: 0.0006777686649002135\n",
      "Epoch: 90 | Loss: 0.0007329726358875632 | Test Loss: 0.0006777686649002135\n",
      "Epoch: 100 | Loss: 0.0007329726358875632 | Test Loss: 0.0006777686649002135\n",
      "Epoch: 110 | Loss: 0.0007329726358875632 | Test Loss: 0.0006777686649002135\n",
      "Epoch: 120 | Loss: 0.0007329726358875632 | Test Loss: 0.0006777686649002135\n",
      "Epoch: 130 | Loss: 0.0007329726358875632 | Test Loss: 0.0006777686649002135\n",
      "Epoch: 140 | Loss: 0.0007329726358875632 | Test Loss: 0.0006777686649002135\n",
      "Epoch: 150 | Loss: 0.0007329726358875632 | Test Loss: 0.0006777686649002135\n",
      "Epoch: 160 | Loss: 0.0007329726358875632 | Test Loss: 0.0006777686649002135\n",
      "Epoch: 170 | Loss: 0.0007329726358875632 | Test Loss: 0.0006777686649002135\n",
      "Epoch: 180 | Loss: 0.0007329726358875632 | Test Loss: 0.0006777686649002135\n",
      "Epoch: 190 | Loss: 0.0007329726358875632 | Test Loss: 0.0006777686649002135\n"
     ]
    }
   ],
   "source": [
    "loss_fn = nn.L1Loss()\n",
    "optimizer = torch.optim.SGD(params=model.parameters(), \n",
    "                            lr=0.001)\n",
    "\n",
    "torch.manual_seed(42)\n",
    "\n",
    "epochs = 200\n",
    "\n",
    "X_train = X_train.to(device)\n",
    "y_train = y_train.to(device)\n",
    "X_test = X_test.to(device)\n",
    "y_test = y_test.to(device)\n",
    "\n",
    "\n",
    "for epoch in range(epochs):\n",
    "    model.train()\n",
    "    y_pred = model(X_train)    \n",
    "    loss = loss_fn(y_pred, y_train)\n",
    "\n",
    "    optimizer.zero_grad()\n",
    "    loss.backward()\n",
    "    optimizer.step()\n",
    "    \n",
    "    model.eval()\n",
    "    with torch.inference_mode():\n",
    "        test_pred = model(X_test)\n",
    "        test_loss = loss_fn(test_pred, y_test)\n",
    "    \n",
    "    if epoch % 10 == 0:\n",
    "        print(f'Epoch: {epoch} | Loss: {loss} | Test Loss: {test_loss}')"
   ]
  },
  {
   "cell_type": "code",
   "execution_count": 21,
   "id": "ef427a65",
   "metadata": {},
   "outputs": [
    {
     "data": {
      "text/plain": [
       "OrderedDict([('linear_layer.weight', tensor([[0.4201]])),\n",
       "             ('linear_layer.bias', tensor([0.1692]))])"
      ]
     },
     "execution_count": 21,
     "metadata": {},
     "output_type": "execute_result"
    }
   ],
   "source": [
    "model.state_dict()"
   ]
  },
  {
   "cell_type": "code",
   "execution_count": 22,
   "id": "91b89f5c",
   "metadata": {},
   "outputs": [],
   "source": [
    "model.eval()\n",
    "with torch.inference_mode():\n",
    "    y_preds = model(X_test)"
   ]
  },
  {
   "cell_type": "code",
   "execution_count": 24,
   "id": "9660c586",
   "metadata": {},
   "outputs": [
    {
     "data": {
      "image/png": "[encoded data removed]",
      "text/plain": [
       "<Figure size 1000x700 with 1 Axes>"
      ]
     },
     "metadata": {},
     "output_type": "display_data"
    }
   ],
   "source": [
    "plot_predictions(X_train, y_train, X_test, y_test, predictions=y_preds)"
   ]
  },
  {
   "cell_type": "code",
   "execution_count": 25,
   "id": "0d5f2642",
   "metadata": {},
   "outputs": [],
   "source": [
    "from pathlib import Path\n",
    "MODEL_PATH = Path(\"models\")\n",
    "MODEL_PATH.mkdir(parents=True, exist_ok=True)\n",
    "\n",
    "MODEL_NAME = \"01_pytorch_workflow_model.pth\"\n",
    "MODEL_SAVE_PATH = MODEL_PATH / MODEL_NAME"
   ]
  },
  {
   "cell_type": "code",
   "execution_count": 26,
   "id": "f58043b2",
   "metadata": {},
   "outputs": [],
   "source": [
    "torch.save(obj=model.state_dict(),f=MODEL_SAVE_PATH)"
   ]
  },
  {
   "cell_type": "code",
   "execution_count": 27,
   "id": "0b721783",
   "metadata": {},
   "outputs": [
    {
     "data": {
      "text/plain": [
       "<All keys matched successfully>"
      ]
     },
     "execution_count": 27,
     "metadata": {},
     "output_type": "execute_result"
    }
   ],
   "source": [
    "loaded_model = LinearRegressionModel()\n",
    "loaded_model.load_state_dict(torch.load(MODEL_SAVE_PATH))"
   ]
  },
  {
   "cell_type": "code",
   "execution_count": 29,
   "id": "3eac8584",
   "metadata": {},
   "outputs": [
    {
     "data": {
      "text/plain": [
       "OrderedDict([('linear_layer.weight', tensor([[0.4201]])),\n",
       "             ('linear_layer.bias', tensor([0.1692]))])"
      ]
     },
     "execution_count": 29,
     "metadata": {},
     "output_type": "execute_result"
    }
   ],
   "source": [
    "loaded_model.to(device)\n",
    "loaded_model.state_dict()"
   ]
  },
  {
   "cell_type": "code",
   "execution_count": 32,
   "id": "1d113f59",
   "metadata": {},
   "outputs": [
    {
     "data": {
      "text/plain": [
       "tensor([[True],\n",
       "        [True],\n",
       "        [True],\n",
       "        [True],\n",
       "        [True],\n",
       "        [True],\n",
       "        [True],\n",
       "        [True],\n",
       "        [True],\n",
       "        [True],\n",
       "        [True],\n",
       "        [True],\n",
       "        [True],\n",
       "        [True]])"
      ]
     },
     "execution_count": 32,
     "metadata": {},
     "output_type": "execute_result"
    }
   ],
   "source": [
    "loaded_model.eval()\n",
    "with torch.inference_mode():\n",
    "    y_pred_new = loaded_model(X_test)\n",
    "\n",
    "y_pred_new == y_preds"
   ]
  }
 ],
 "metadata": {
  "kernelspec": {
   "display_name": "Python 3 (ipykernel)",
   "language": "python",
   "name": "python3"
  },
  "language_info": {
   "codemirror_mode": {
    "name": "ipython",
    "version": 3
   },
   "file_extension": ".py",
   "mimetype": "text/x-python",
   "name": "python",
   "nbconvert_exporter": "python",
   "pygments_lexer": "ipython3",
   "version": "3.11.4"
  }
 },
 "nbformat": 4,
 "nbformat_minor": 5
}
