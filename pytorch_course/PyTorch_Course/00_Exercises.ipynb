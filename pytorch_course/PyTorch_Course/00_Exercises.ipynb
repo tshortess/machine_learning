{
 "cells": [
  {
   "cell_type": "code",
   "execution_count": 1,
   "id": "cf316553",
   "metadata": {
    "scrolled": true
   },
   "outputs": [],
   "source": [
    "import torch"
   ]
  },
  {
   "cell_type": "code",
   "execution_count": 2,
   "id": "515155af",
   "metadata": {},
   "outputs": [],
   "source": [
    "#Create a random tensor with shape (7, 7).\n",
    "first_tensor = torch.rand(7,7)"
   ]
  },
  {
   "cell_type": "code",
   "execution_count": 3,
   "id": "05f5bc27",
   "metadata": {},
   "outputs": [
    {
     "data": {
      "text/plain": [
       "tensor([[0.7764],\n",
       "        [1.0945],\n",
       "        [1.5610],\n",
       "        [1.1607],\n",
       "        [0.7188],\n",
       "        [1.4709],\n",
       "        [0.8629]])"
      ]
     },
     "execution_count": 3,
     "metadata": {},
     "output_type": "execute_result"
    }
   ],
   "source": [
    "#Perform a matrix multiplication on the tensor from 2 with another random tensor with shape (1, 7) \n",
    "#(hint: you may have to transpose the second tensor).\n",
    "multiplier_tensor = torch.rand(1, 7)\n",
    "first_tensor.matmul(multiplier_tensor.T)"
   ]
  },
  {
   "cell_type": "code",
   "execution_count": 4,
   "id": "afadf321",
   "metadata": {},
   "outputs": [
    {
     "data": {
      "text/plain": [
       "tensor([[1.8542],\n",
       "        [1.9611],\n",
       "        [2.2884],\n",
       "        [3.0481],\n",
       "        [1.7067],\n",
       "        [2.5290],\n",
       "        [1.7989]])"
      ]
     },
     "execution_count": 4,
     "metadata": {},
     "output_type": "execute_result"
    }
   ],
   "source": [
    "#Set the random seed to 0 and do exercises 2 & 3 over again.\n",
    "torch.manual_seed(0)\n",
    "first_tensor = torch.rand(7,7)\n",
    "multiplier_tensor = torch.rand(1, 7)\n",
    "multiplier_result_tensor = first_tensor.matmul(multiplier_tensor.T)\n",
    "multiplier_result_tensor"
   ]
  },
  {
   "cell_type": "code",
   "execution_count": 5,
   "id": "c2b25342",
   "metadata": {},
   "outputs": [
    {
     "name": "stdout",
     "output_type": "stream",
     "text": [
      "Max: 3.0481479167938232\n",
      "Min: 1.7067397832870483\n"
     ]
    }
   ],
   "source": [
    "#Find the maximum and minimum values of the output of 7.\n",
    "\n",
    "print(f\"Max: {multiplier_result_tensor.max()}\")\n",
    "print(f\"Min: {multiplier_result_tensor.min()}\")"
   ]
  },
  {
   "cell_type": "code",
   "execution_count": 6,
   "id": "db81fd59",
   "metadata": {},
   "outputs": [
    {
     "name": "stdout",
     "output_type": "stream",
     "text": [
      "Max: 3\n",
      "Min: 4\n"
     ]
    }
   ],
   "source": [
    "#Find the maximum and minimum index values of the output of 7.\n",
    "print(f\"Max: {multiplier_result_tensor.argmax()}\")\n",
    "print(f\"Min: {multiplier_result_tensor.argmin()}\")"
   ]
  }
 ],
 "metadata": {
  "kernelspec": {
   "display_name": "Python 3 (ipykernel)",
   "language": "python",
   "name": "python3"
  },
  "language_info": {
   "codemirror_mode": {
    "name": "ipython",
    "version": 3
   },
   "file_extension": ".py",
   "mimetype": "text/x-python",
   "name": "python",
   "nbconvert_exporter": "python",
   "pygments_lexer": "ipython3",
   "version": "3.11.4"
  }
 },
 "nbformat": 4,
 "nbformat_minor": 5
}
